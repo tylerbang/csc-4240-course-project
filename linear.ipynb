{
 "cells": [
  {
   "cell_type": "code",
   "execution_count": 49,
   "metadata": {},
   "outputs": [],
   "source": [
    "import pandas as pd\n",
    "import matplotlib.pyplot as plt\n",
    "from sklearn import metrics\n",
    "import numpy as np\n",
    "from sklearn.model_selection import train_test_split\n",
    "from sklearn.preprocessing import StandardScaler\n",
    "from sklearn.linear_model import LinearRegression\n",
    "import seaborn as sns\n",
    "from sklearn.model_selection import GridSearchCV\n",
    "from sklearn.model_selection import RandomizedSearchCV\n",
    "from sklearn.metrics import mean_squared_error, make_scorer\n",
    "\n",
    "df_attendance = pd.read_csv('attendance.csv')\n",
    "df_games = pd.read_csv('games.csv')\n",
    "\n",
    "excludeYears = [2000, 2001]\n",
    "\n",
    "# Removes any rows containing a null value from the datasets\n",
    "df_attendance = df_attendance[~df_attendance['year'].isin(excludeYears)]\n",
    "df_attendance = df_attendance.dropna()\n",
    "droppit = ['team', 'total', 'home', 'away']\n",
    "df_attendance = df_attendance.drop(droppit, axis=1)\n",
    "df_attendance.rename(columns={'team_name': 'home_team_name'}, inplace=True)\n",
    "df_attendance['week'] = df_attendance['week'].astype(int)\n",
    "\n",
    "df_games = df_games[~df_games['year'].isin(excludeYears)]\n",
    "droppa = ['home_team', 'away_team', 'tie', 'home_team_city', 'away_team_city']\n",
    "exclude_weeks = ['WildCard', 'Division', 'ConfChamp', 'SuperBowl']\n",
    "df_games = df_games.drop(droppa, axis=1)\n",
    "df_games = df_games[~df_games['week'].isin(exclude_weeks)]\n",
    "df_games = df_games.dropna()\n",
    "df_games['week'] = df_games['week'].astype(int)\n",
    "\n",
    "right = ['year', 'week', 'home_team_name']\n",
    "df_result = df_attendance.merge(df_games, on=right)\n",
    "to_convert_categorical = ['home_team_name', 'time', 'winner', 'day', 'away_team_name']\n",
    "\n",
    "df_result[to_convert_categorical] = df_result[to_convert_categorical].astype('category')\n",
    "df_result = df_result.drop('date', axis=1)"
   ]
  },
  {
   "cell_type": "code",
   "execution_count": null,
   "metadata": {},
   "outputs": [],
   "source": [
    "model = LinearRegression()"
   ]
  },
  {
   "cell_type": "code",
   "execution_count": null,
   "metadata": {},
   "outputs": [],
   "source": [
    "param_grid = {\n",
    "    'fit_intercept': [True, False],\n",
    "    'normalize': [True, False]\n",
    "}"
   ]
  },
  {
   "cell_type": "code",
   "execution_count": null,
   "metadata": {},
   "outputs": [],
   "source": [
    "scorer = make_scorer(mean_squared_error, greater_is_better=False)"
   ]
  },
  {
   "cell_type": "code",
   "execution_count": null,
   "metadata": {},
   "outputs": [],
   "source": [
    "grid_search = GridSearchCV(model, param_grid, scoring=scorer, cv=5)\n",
    "grid_result = grid_search.fit() # enter our X and Y values here"
   ]
  },
  {
   "cell_type": "code",
   "execution_count": null,
   "metadata": {},
   "outputs": [],
   "source": [
    "best_params = grid_result.best_params_\n",
    "print(\"Best Hyperparameters:\", best_params)"
   ]
  },
  {
   "cell_type": "code",
   "execution_count": null,
   "metadata": {},
   "outputs": [],
   "source": [
    "best_model = grid_result.best_estimator_\n",
    "y_pred = best_model.predict()\n",
    "mse = mean_squared_error()\n",
    "print(\"Final Mean Squared Error on Test Set:\", mse)"
   ]
  }
 ],
 "metadata": {
  "kernelspec": {
   "display_name": "base",
   "language": "python",
   "name": "python3"
  },
  "language_info": {
   "codemirror_mode": {
    "name": "ipython",
    "version": 3
   },
   "file_extension": ".py",
   "mimetype": "text/x-python",
   "name": "python",
   "nbconvert_exporter": "python",
   "pygments_lexer": "ipython3",
   "version": "3.11.5"
  }
 },
 "nbformat": 4,
 "nbformat_minor": 2
}
