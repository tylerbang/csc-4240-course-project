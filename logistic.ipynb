{
 "cells": [
  {
   "cell_type": "code",
   "execution_count": 4,
   "metadata": {},
   "outputs": [
    {
     "name": "stdout",
     "output_type": "stream",
     "text": [
      "       team  team_name  year   total    home    away  week  weekly_attendance\n",
      "0   Arizona  Cardinals  2000  893926  387475  506451     1            77434.0\n",
      "1   Arizona  Cardinals  2000  893926  387475  506451     2            66009.0\n",
      "2   Arizona  Cardinals  2000  893926  387475  506451     3                NaN\n",
      "3   Arizona  Cardinals  2000  893926  387475  506451     4            71801.0\n",
      "4   Arizona  Cardinals  2000  893926  387475  506451     5            66985.0\n",
      "5   Arizona  Cardinals  2000  893926  387475  506451     6            44296.0\n",
      "6   Arizona  Cardinals  2000  893926  387475  506451     7            38293.0\n",
      "7   Arizona  Cardinals  2000  893926  387475  506451     8            62981.0\n",
      "8   Arizona  Cardinals  2000  893926  387475  506451     9            35286.0\n",
      "9   Arizona  Cardinals  2000  893926  387475  506451    10            52244.0\n",
      "10  Arizona  Cardinals  2000  893926  387475  506451    11            64223.0\n",
      "11  Arizona  Cardinals  2000  893926  387475  506451    12            65356.0\n",
      "12  Arizona  Cardinals  2000  893926  387475  506451    13            42094.0\n",
      "13  Arizona  Cardinals  2000  893926  387475  506451    14            50289.0\n",
      "14  Arizona  Cardinals  2000  893926  387475  506451    15            53472.0\n",
      "15  Arizona  Cardinals  2000  893926  387475  506451    16            37452.0\n",
      "16  Arizona  Cardinals  2000  893926  387475  506451    17            65711.0\n",
      "17  Atlanta    Falcons  2000  964579  422814  541765     1            54626.0\n",
      "18  Atlanta    Falcons  2000  964579  422814  541765     2            75466.0\n",
      "19  Atlanta    Falcons  2000  964579  422814  541765     3            73025.0\n"
     ]
    }
   ],
   "source": [
    "import pandas as pd\n",
    "import matplotlib.pyplot as plt\n",
    "from sklearn import metrics\n",
    "from sklearn.metrics import classification_report\n",
    "import numpy as np\n",
    "from sklearn.model_selection import train_test_split\n",
    "from sklearn.preprocessing import StandardScaler\n",
    "from sklearn.linear_model import LogisticRegression\n",
    "import seaborn as sns\n",
    "from sklearn.model_selection import GridSearchCV\n",
    "from sklearn.model_selection import RandomizedSearchCV\n",
    "from scipy.stats import loguniform\n",
    "\n",
    "df = pd.read_csv('attendance.csv')\n",
    "print(df.head(20))"
   ]
  },
  {
   "cell_type": "code",
   "execution_count": null,
   "metadata": {},
   "outputs": [],
   "source": []
  }
 ],
 "metadata": {
  "kernelspec": {
   "display_name": "base",
   "language": "python",
   "name": "python3"
  },
  "language_info": {
   "codemirror_mode": {
    "name": "ipython",
    "version": 3
   },
   "file_extension": ".py",
   "mimetype": "text/x-python",
   "name": "python",
   "nbconvert_exporter": "python",
   "pygments_lexer": "ipython3",
   "version": "3.11.5"
  }
 },
 "nbformat": 4,
 "nbformat_minor": 2
}
