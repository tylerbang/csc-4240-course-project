{
 "cells": [
  {
   "cell_type": "code",
   "execution_count": 4,
   "metadata": {},
   "outputs": [],
   "source": [
    "# import the usual\n",
    "import numpy as np\n",
    "import matplotlib.pyplot as plt\n",
    "from scipy import stats\n",
    "import seaborn as sns; sns.set()\n",
    "from ipywidgets import interact, fixed\n",
    "from sklearn.model_selection import RepeatedKFold\n",
    "from sklearn.model_selection import RandomizedSearchCV\n",
    "from sklearn.metrics import classification_report\n",
    "from sklearn.model_selection import GridSearchCV\n",
    "from sklearn.svm import SVR\n",
    "from sklearn.model_selection import train_test_split\n",
    "from sklearn.metrics import classification_report\n",
    "from sklearn.metrics import mean_squared_error, make_scorer\n",
    "import pandas as pd"
   ]
  },
  {
   "cell_type": "markdown",
   "metadata": {},
   "source": [
    "Here, we put the csv files into dataframe and we try to fit them into X and Y"
   ]
  },
  {
   "cell_type": "code",
   "execution_count": 5,
   "metadata": {},
   "outputs": [],
   "source": [
    "df_attendance = pd.read_csv('attendance.csv')\n",
    "df_games = pd.read_csv('games.csv')\n",
    "df_standings = pd.read_csv('standings.csv')\n",
    "\n",
    "y_feature_name = 'weekly_attendance'\n",
    "\n",
    "df_attendance = df_attendance.dropna()\n",
    "filter_y = df_attendance[y_feature_name]\n"
   ]
  },
  {
   "cell_type": "code",
   "execution_count": 6,
   "metadata": {},
   "outputs": [
    {
     "name": "stdout",
     "output_type": "stream",
     "text": [
      "0        77434.0\n",
      "1        66009.0\n",
      "3        71801.0\n",
      "4        66985.0\n",
      "5        44296.0\n",
      "          ...   \n",
      "10841    71504.0\n",
      "10842    77296.0\n",
      "10843    63246.0\n",
      "10844    66083.0\n",
      "10845    90646.0\n",
      "Name: weekly_attendance, Length: 10208, dtype: float64\n"
     ]
    }
   ],
   "source": [
    "X = df_attendance.drop('weekly_attendance', axis=1) \n",
    "    # TODO: put all of our features into\n",
    "            #   here, make sure that we do not\n",
    "            # include our Y features, which will be\n",
    "            # weekly attendance\n",
    "Y = filter_y[y_feature_name]\n",
    "print(Y)\n"
   ]
  },
  {
   "cell_type": "code",
   "execution_count": null,
   "metadata": {},
   "outputs": [],
   "source": [
    "model = SVR()"
   ]
  },
  {
   "cell_type": "code",
   "execution_count": null,
   "metadata": {},
   "outputs": [],
   "source": [
    "param_grid = {\n",
    "    'kernel': ['linear', 'poly', 'rbf', 'sigmoid'],\n",
    "    'C': [0.1, 1.0, 10.0],\n",
    "    'epsilon': [0.1, 0.2, 0.5]\n",
    "}"
   ]
  },
  {
   "cell_type": "code",
   "execution_count": null,
   "metadata": {},
   "outputs": [],
   "source": [
    "scorer = make_scorer(mean_squared_error, greater_is_better=False)"
   ]
  },
  {
   "cell_type": "code",
   "execution_count": null,
   "metadata": {},
   "outputs": [],
   "source": [
    "grid_search = GridSearchCV(model, param_grid, scoring=scorer, cv=5)\n",
    "grid_result = grid_search.fit()"
   ]
  },
  {
   "cell_type": "code",
   "execution_count": null,
   "metadata": {},
   "outputs": [],
   "source": [
    "best_params = grid_result.best_params_\n",
    "print(\"Best Hyperparameters:\", best_params)"
   ]
  },
  {
   "cell_type": "code",
   "execution_count": null,
   "metadata": {},
   "outputs": [],
   "source": [
    "best_model = grid_result.best_estimator_\n",
    "y_pred = best_model.predict()\n",
    "mse = mean_squared_error()\n",
    "print(\"Final Mean Squared Error on Test Set:\", mse)"
   ]
  }
 ],
 "metadata": {
  "kernelspec": {
   "display_name": "base",
   "language": "python",
   "name": "python3"
  },
  "language_info": {
   "codemirror_mode": {
    "name": "ipython",
    "version": 3
   },
   "file_extension": ".py",
   "mimetype": "text/x-python",
   "name": "python",
   "nbconvert_exporter": "python",
   "pygments_lexer": "ipython3",
   "version": "3.11.5"
  }
 },
 "nbformat": 4,
 "nbformat_minor": 2
}
